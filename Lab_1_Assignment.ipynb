{
  "cells": [
    {
      "cell_type": "markdown",
      "metadata": {
        "id": "1ow0Xm_cIwgm"
      },
      "source": [
        "#### **Homework 01:**\n",
        "Generate random matrix of size 10 x 5. Then, solve the following problems:"
      ]
    },
    {
      "cell_type": "code",
      "execution_count": null,
      "metadata": {
        "id": "6L7p7uT6tk4W"
      },
      "outputs": [],
      "source": [
        "import numpy as np"
      ]
    },
    {
      "cell_type": "code",
      "execution_count": null,
      "metadata": {
        "colab": {
          "base_uri": "https://localhost:8080/"
        },
        "id": "ADKl5bH2Iwgm",
        "outputId": "8cff75c1-5bca-4887-a5a6-46c76564be99"
      },
      "outputs": [
        {
          "name": "stdout",
          "output_type": "stream",
          "text": [
            "[[0.00147555 0.24111778 0.62030405 0.13981803 0.46061029]\n",
            " [0.53247527 0.85641942 0.81915142 0.28510063 0.05321843]\n",
            " [0.33627008 0.8205094  0.45157069 0.50557413 0.37049083]\n",
            " [0.31791773 0.75437541 0.30693097 0.57656872 0.39171731]\n",
            " [0.50068973 0.50788233 0.20342747 0.04115277 0.40313017]\n",
            " [0.63820777 0.55651696 0.74945506 0.44434938 0.10023916]\n",
            " [0.76812182 0.58956668 0.45558538 0.90899709 0.73561137]\n",
            " [0.79830291 0.68775665 0.45881323 0.77314554 0.07536066]\n",
            " [0.66853985 0.23323604 0.465036   0.8201856  0.75865531]\n",
            " [0.7886091  0.27992028 0.41027969 0.46511743 0.05164558]]\n"
          ]
        }
      ],
      "source": [
        "a = np.random.random((10,5))\n",
        "print (a)"
      ]
    },
    {
      "cell_type": "markdown",
      "metadata": {
        "id": "DyVYpkx3Iwgn"
      },
      "source": [
        "##### **Problem 01:**\n",
        "Calculate the sum and mean of the 2nd row of the matrix."
      ]
    },
    {
      "cell_type": "code",
      "execution_count": null,
      "metadata": {
        "colab": {
          "base_uri": "https://localhost:8080/"
        },
        "id": "t2KwR_NJIwgn",
        "outputId": "ab253acc-086d-43cc-82ef-6c3d6e311cc9"
      },
      "outputs": [
        {
          "name": "stdout",
          "output_type": "stream",
          "text": [
            "Mean of Row 2 is 0.5092730351424267\n",
            "Sum of Row2 is 2.5463651757121335\n"
          ]
        }
      ],
      "source": [
        "row_mean = np.mean(a, axis=1)\n",
        "sum_mean = np.sum(a, axis=1) \n",
        "row2_mean = row_mean[1]\n",
        "row2_sum = sum_mean[1]\n",
        "print(\"Mean of Row 2 is\", row2_mean)\n",
        "print(\"Sum of Row2 is\" , row2_sum)"
      ]
    },
    {
      "cell_type": "markdown",
      "metadata": {
        "id": "9bcPMryQIwgo"
      },
      "source": [
        "##### **Problem 02:**\n",
        "Find the sum and mean of all the rows of the matrix."
      ]
    },
    {
      "cell_type": "code",
      "execution_count": null,
      "metadata": {
        "colab": {
          "base_uri": "https://localhost:8080/"
        },
        "id": "ZSNClgeYIwgo",
        "outputId": "aa48487f-2563-41a1-8e26-ce59fd98e1ea"
      },
      "outputs": [
        {
          "name": "stdout",
          "output_type": "stream",
          "text": [
            "24.179153178453497\n",
            "0.48358306356906994\n"
          ]
        }
      ],
      "source": [
        "sum = np.sum (a)\n",
        "print (sum)\n",
        "mean = np.mean (a)\n",
        "print (mean)"
      ]
    },
    {
      "cell_type": "markdown",
      "metadata": {
        "id": "8bCway-nIwgp"
      },
      "source": [
        "##### **Problem 03:**\n",
        "Find the mean of the 3rd column of the matrix without using the built-in function and loop."
      ]
    },
    {
      "cell_type": "code",
      "execution_count": null,
      "metadata": {
        "colab": {
          "base_uri": "https://localhost:8080/"
        },
        "id": "Y3JGw37MIwgq",
        "outputId": "dabedc95-764a-435f-f6e6-5f505a6f00df"
      },
      "outputs": [
        {
          "name": "stdout",
          "output_type": "stream",
          "text": [
            "0.49405539683622707\n"
          ]
        }
      ],
      "source": [
        "coloumn_mean = np.mean(a, axis=0)\n",
        "coloumn3 = coloumn_mean[2]\n",
        "print (coloumn3)\n",
        "\n"
      ]
    },
    {
      "cell_type": "markdown",
      "metadata": {
        "id": "FTS1KxVvIwgq"
      },
      "source": [
        "##### **Problem 04:**\n",
        "Generate the vector `[25, 16, 9, 4, 1]` and then find the square root of each element of the vector using for loop. **Hint:** Use `np.sqrt()` function to find the square root of a number, don't use any other built-in function."
      ]
    },
    {
      "cell_type": "code",
      "execution_count": null,
      "metadata": {
        "colab": {
          "base_uri": "https://localhost:8080/"
        },
        "id": "I7fgDQsPIwgr",
        "outputId": "942c1f00-6818-42e0-ccdd-b27b90f6abf3"
      },
      "outputs": [
        {
          "name": "stdout",
          "output_type": "stream",
          "text": [
            "[25 16  9  4  1]\n"
          ]
        },
        {
          "data": {
            "text/plain": [
              "array([5., 4., 3., 2., 1.])"
            ]
          },
          "execution_count": 27,
          "metadata": {},
          "output_type": "execute_result"
        }
      ],
      "source": [
        "b = np.arange(6)**2\n",
        "res = b[:0:-1]\n",
        "print (res)\n",
        "np.sqrt(res)"
      ]
    },
    {
      "cell_type": "markdown",
      "metadata": {
        "id": "ewrZGjZFIwgr"
      },
      "source": [
        "##### **Problem 05:**\n",
        "Write a function that takes a number and returns a vector like the previous problem. For example, if the input is 5, then the output should be `[25, 16, 9, 4, 1]`. If the input is 10, then the output should be `[100, 81, 64, 49, 36, 25, 16, 9, 4, 1]`."
      ]
    },
    {
      "cell_type": "code",
      "execution_count": null,
      "metadata": {
        "colab": {
          "base_uri": "https://localhost:8080/"
        },
        "id": "leJIh7nWIwgr",
        "outputId": "9e001ed1-4860-4310-ffef-930e63dbdaa0"
      },
      "outputs": [
        {
          "name": "stdout",
          "output_type": "stream",
          "text": [
            "[100  81  64  49  36  25  16   9   4   1]\n"
          ]
        }
      ],
      "source": [
        "c = np.arange(11)**2\n",
        "\n",
        "res = c[:0:-1]\n",
        "print (res)"
      ]
    },
    {
      "cell_type": "markdown",
      "metadata": {
        "id": "VBF1AGvMIwgs"
      },
      "source": [
        "##### **Problem 06:**\n",
        "Generate the following block matrix:\n",
        "\n",
        "$$\n",
        "\\begin{bmatrix}\n",
        "1 & 0 & 0 & 2 & 2 \\\\\n",
        "0 & 1 & 0 & 2 & 2 \\\\\n",
        "0 & 0 & 1 & 2 & 2 \\\\\n",
        "25 & 16 & 9 & 4 & 1 \\\\\n",
        "\\end{bmatrix}\n",
        "$$\n",
        "\n",
        "You can use any built-in function to generate the matrix."
      ]
    },
    {
      "cell_type": "code",
      "execution_count": null,
      "metadata": {
        "colab": {
          "base_uri": "https://localhost:8080/"
        },
        "id": "AY1gfhWjIwgs",
        "outputId": "faa6e633-b7d0-45a1-8b7a-6601fb106e81"
      },
      "outputs": [
        {
          "data": {
            "text/plain": [
              "array([[2., 0., 0., 0., 0.],\n",
              "       [0., 2., 0., 0., 0.],\n",
              "       [1., 1., 3., 0., 0.],\n",
              "       [1., 1., 0., 3., 0.],\n",
              "       [1., 1., 0., 0., 3.]])"
            ]
          },
          "execution_count": 34,
          "metadata": {},
          "output_type": "execute_result"
        }
      ],
      "source": [
        "import numpy as np \n",
        "\n",
        "\n",
        "b = np.array([[1,0,0,2,2], \n",
        "[0,1,0,2,2],\n",
        "[0,0,1,2,2],\n",
        "[25,16,9,4,1]]) \n",
        "for row in b:\n",
        "  for col in row:\n",
        "    print(col, end=' ')\n",
        "  print()"
      ]
    },
    {
      "cell_type": "markdown",
      "metadata": {
        "id": "t0SeP5SqIwgs"
      },
      "source": [
        "##### **Problem 07:**\n",
        "Plot $y = 2x^2 + 3x + 1$ for $x \\in [-3, 3]$ with interval 0.25. You can use any built-in function to plot the graph."
      ]
    },
    {
      "cell_type": "code",
      "execution_count": null,
      "metadata": {
        "id": "JbQr_MhpIwgt"
      },
      "outputs": [],
      "source": [
        "# Write your code here"
      ]
    },
    {
      "cell_type": "markdown",
      "metadata": {
        "id": "ZVdpN3_EIwgt"
      },
      "source": [
        "##### **Problem 08:**\n",
        "Plot $x + y + z = 1$ for $x, y \\in [-3, 3]$ with interval 0.5. Use meshgrid to generate the grid. You can use any built-in function to plot the surface."
      ]
    },
    {
      "cell_type": "code",
      "execution_count": null,
      "metadata": {
        "id": "CQCHCUGiIwgt"
      },
      "outputs": [],
      "source": [
        "# Write your code here"
      ]
    },
    {
      "cell_type": "markdown",
      "metadata": {
        "id": "U5arvXB3Iwgt"
      },
      "source": [
        "##### **Problem 09:**\n",
        "Download the image of Lena Forsen from the following link: [https://upload.wikimedia.org/wikipedia/en/7/7d/Lenna_%28test_image%29.png](https://upload.wikimedia.org/wikipedia/en/7/7d/Lenna_%28test_image%29.png). Then, do the following tasks:\n",
        "\n",
        "*  Load the image to a numpy array.\n",
        "*  Find the size of the image.\n",
        "*  Find the minimum and maximum value of the image.\n",
        "*  Find the mean and standard deviation of the image.\n",
        "*  Plot the image using `plt.imshow()` or `display()`.\n",
        "*  Resize the image to 50 x 50.\n",
        "*  Convert the image to grayscale.\n",
        "*  Plot the grayscale image using `plt.imshow()` or `display()`.\n",
        "*  Save the grayscale image using `imsave()`.\n",
        "*  Stack the columns of the image to form a vector of size 2500 x 1."
      ]
    },
    {
      "cell_type": "code",
      "execution_count": null,
      "metadata": {
        "id": "HUjBUGeqIwgu"
      },
      "outputs": [],
      "source": [
        "# Write your code here"
      ]
    }
  ],
  "metadata": {
    "colab": {
      "provenance": []
    },
    "kernelspec": {
      "display_name": "Python 3.10.6 64-bit",
      "language": "python",
      "name": "python3"
    },
    "language_info": {
      "codemirror_mode": {
        "name": "ipython",
        "version": 3
      },
      "file_extension": ".py",
      "mimetype": "text/x-python",
      "name": "python",
      "nbconvert_exporter": "python",
      "pygments_lexer": "ipython3",
      "version": "3.10.6"
    },
    "orig_nbformat": 4,
    "vscode": {
      "interpreter": {
        "hash": "b148fc9bfa8b60132af830e32e1690e4e023b803e92912df15b823b90141dda6"
      }
    }
  },
  "nbformat": 4,
  "nbformat_minor": 0
}
